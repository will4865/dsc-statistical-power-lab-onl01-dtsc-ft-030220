{
 "cells": [
  {
   "cell_type": "markdown",
   "metadata": {},
   "source": [
    "# Statistical Power - Lab\n",
    "\n",
    "## Introduction\n",
    "\n",
    "\n",
    "In this lesson, you'll practice doing a power-analysis during experimental design. As you've seen, power analysis allows you to determine the sample size required to detect an effect of a given size with a given degree of confidence. In other words, it allows you to determine the probability of detecting an effect of a given size with a given level of confidence, under-sample size constraints.\n",
    "\n",
    "The following four factors have an intimate relationship:\n",
    "\n",
    "* Sample size\n",
    "* Effect size\n",
    "* Significance level = P (Type I error) = probability of finding an effect that is not there\n",
    "* **Power = 1 - P (Type II error)** = probability of finding an effect that is there\n",
    "\n",
    "Given any three of these, we can easily determine the fourth.\n",
    "\n",
    "## Objectives\n",
    "\n",
    "In this lab you will: \n",
    "\n",
    "- Describe the impact of sample size and effect size on power \n",
    "- Perform power calculation using SciPy and Python \n",
    "- Demonstrate the combined effect of sample size and effect size on statistical power using simulations\n",
    "\n",
    "## Let's get started!\n",
    "  \n",
    "To start, let's import the necessary libraries required for this simulation: "
   ]
  },
  {
   "cell_type": "code",
   "execution_count": 1,
   "metadata": {
    "ExecuteTime": {
     "end_time": "2020-04-09T20:23:12.237148Z",
     "start_time": "2020-04-09T20:23:10.719177Z"
    }
   },
   "outputs": [],
   "source": [
    "import numpy as np\n",
    "import scipy.stats as stats\n",
    "import pandas as pd\n",
    "import matplotlib.pyplot as plt\n",
    "import seaborn as sns\n",
    "sns.set_style('darkgrid')"
   ]
  },
  {
   "cell_type": "markdown",
   "metadata": {},
   "source": [
    "## Scenario\n",
    "\n",
    "A researcher wants to study how daily protein supplementation in the elderly population will affect baseline liver fat. The study budget will allow enrollment of 24 patients. Half will be randomized to a placebo group and half to the protein supplement treatment group and the trial will be carried out over one month. It is desired to see whether the mean change in percentage of liver fat from baseline to the end of the study differs between the two groups in the study. \n",
    "\n",
    "With this, the researcher writes the null hypothesis: \n",
    "\n",
    "    There is no difference between experimental and control group mean change in percentage of liver fat \n",
    "    \n",
    "$$\\mu_{1} = \\mu_{2}$$\n",
    "  \n",
    "And the alternative Hypothesis:\n",
    "\n",
    "    There is a difference between experimental and control group mean change in percentage of liver fat \n",
    "\n",
    "$$\\mu_{1} \\neq \\mu_{2}$$\n",
    "    \n",
    "  \n",
    "\n",
    "The researcher needs to know what power  will be obtained under the sample size restrictions to identify a change in mean percent liver fat of 0.17. Based on past results, a common standard deviation of 0.21 will be used for each treatment group in the power analysis. \n",
    "\n",
    "To determine the practicality of this experimental design, you'll run a power analysis simulation: "
   ]
  },
  {
   "cell_type": "code",
   "execution_count": 2,
   "metadata": {
    "ExecuteTime": {
     "end_time": "2020-04-09T20:23:25.560037Z",
     "start_time": "2020-04-09T20:23:25.556373Z"
    }
   },
   "outputs": [],
   "source": [
    "# Number of patients in each group\n",
    "sample_size = 12\n",
    "\n",
    "# Control group\n",
    "control_mean = 0\n",
    "control_sd = 0.21\n",
    "\n",
    "# Experimental group\n",
    "experimental_mean = 0.17\n",
    "experimental_sd = 0.21\n",
    "\n",
    "# Set the number of simulations for our test = 1000\n",
    "n_sim = 1000"
   ]
  },
  {
   "cell_type": "markdown",
   "metadata": {},
   "source": [
    "You can now start running simulations to run an independent t-test with above data and store the calculated p-value in our `p` array. Perform following tasks: \n",
    "\n",
    "* Initialize a numpy array and fill it with `NaN` values for storing the results (p_value) of the independent t-test  \n",
    "* For a defined number of simulations (i.e., 1000), do the following:\n",
    "\n",
    "    * Generate a random normal variable with control mean and sd\n",
    "    * Generate a random normal variable with experimental mean and sd\n",
    "    * Run and independent t-test using control and experimental data\n",
    "    * Store the p value for each test\n",
    "\n",
    "* Calculate the total number and overall proportion of simulations where the null hypothesis is rejected\n"
   ]
  },
  {
   "cell_type": "code",
   "execution_count": 3,
   "metadata": {
    "ExecuteTime": {
     "end_time": "2020-04-09T20:24:15.823444Z",
     "start_time": "2020-04-09T20:24:15.545790Z"
    }
   },
   "outputs": [
    {
     "data": {
      "text/plain": [
       "0.495"
      ]
     },
     "execution_count": 3,
     "metadata": {},
     "output_type": "execute_result"
    }
   ],
   "source": [
    "# For reproducibility \n",
    "np.random.seed(10)\n",
    "\n",
    "# Initialize array to store results\n",
    "p = (np.empty(n_sim))\n",
    "p.fill(np.nan)\n",
    "\n",
    "#  Run a for loop for range of values in n_sim\n",
    "\n",
    "for s in range(n_sim):\n",
    "\n",
    "    control = np.random.normal(loc= control_mean, scale=control_sd, size=sample_size)\n",
    "    \n",
    "    experimental = np.random.normal(loc= experimental_mean, scale=experimental_sd, size=sample_size)\n",
    "    \n",
    "    t_test = stats.ttest_ind(control, experimental)\n",
    "    \n",
    "    p[s] = t_test[1]\n",
    "\n",
    "# number of null hypothesis rejections\n",
    "num_null_rejects = np.sum(p < 0.05)\n",
    "power = num_null_rejects/float(n_sim)\n",
    "\n",
    "power"
   ]
  },
  {
   "cell_type": "markdown",
   "metadata": {},
   "source": [
    "These results indicate that using 12 participants in each group and with given statistics, the statistical power of the experiment is 49%. This can be interpreted as follows:\n",
    "\n",
    "> **If a large effect (0.17 or greater) is truly present between control and experimental groups, then the null hypothesis (i.e. no difference with alpha 0.05) would be rejected 49% of the time. **"
   ]
  },
  {
   "cell_type": "markdown",
   "metadata": {},
   "source": [
    "## Sample size requirements for a given effect size\n",
    "\n",
    "Often in behavioral research 0.8 is accepted as a sufficient level of power.  \n",
    "\n",
    "Clearly, this is not the case for the experiment as currently designed. Determine the required sample size in order to identify a difference of 0.17 or greater between the group means with an 80% power."
   ]
  },
  {
   "cell_type": "code",
   "execution_count": null,
   "metadata": {},
   "outputs": [],
   "source": [
    "# Required power\n",
    "target = 0.8"
   ]
  },
  {
   "cell_type": "code",
   "execution_count": 5,
   "metadata": {
    "ExecuteTime": {
     "end_time": "2020-04-09T20:24:35.645124Z",
     "start_time": "2020-04-09T20:24:35.642365Z"
    }
   },
   "outputs": [],
   "source": [
    "from statsmodels.stats.power import TTestIndPower\n",
    "power = TTestIndPower()"
   ]
  },
  {
   "cell_type": "code",
   "execution_count": null,
   "metadata": {},
   "outputs": [],
   "source": [
    "# Determine the sample size\n"
   ]
  },
  {
   "cell_type": "code",
   "execution_count": 4,
   "metadata": {
    "ExecuteTime": {
     "end_time": "2020-04-09T20:24:31.768317Z",
     "start_time": "2020-04-09T20:24:31.754375Z"
    }
   },
   "outputs": [],
   "source": [
    "# Minimum sample size to start the simulations \n",
    "target = 0.8\n",
    "from statsmodels.stats.power import TTestIndPower\n",
    "power = TTestIndPower()\n",
    "power.solve_power(effect_size=0.17/0.21, alpha=0.05, power=0.8)\n",
    "24.951708908275144\n",
    "# Minimum sample size to start the simulations \n",
    "sample_size = 12\n",
    "null_rejected = 0\n",
    "n_sim = 10000"
   ]
  },
  {
   "cell_type": "markdown",
   "metadata": {},
   "source": [
    "As above, perform the following\n",
    "\n",
    "* Initialize an empty array for storing results\n",
    "* initialize a list for storing sample size x power summary\n",
    "* While current power is less than the target power\n",
    "    * Generate distributions for control and experimental groups using given statistics (as before)\n",
    "    * Run a t-test and store results\n",
    "    * Calculate current power \n",
    "    * Output current sample size and power calculated for inspection\n",
    "    * Store results: Sample size, power\n",
    "    * increase the sample size by 1 and repeat"
   ]
  },
  {
   "cell_type": "code",
   "execution_count": 6,
   "metadata": {
    "ExecuteTime": {
     "end_time": "2020-04-09T20:24:56.767956Z",
     "start_time": "2020-04-09T20:24:56.417191Z"
    }
   },
   "outputs": [
    {
     "name": "stdout",
     "output_type": "stream",
     "text": [
      "Number of Samples: 12 , Calculated Power = 0.4754\n",
      "Number of Samples: 13 , Calculated Power = 0.5066\n",
      "Number of Samples: 14 , Calculated Power = 0.5423\n",
      "Number of Samples: 15 , Calculated Power = 0.5767\n",
      "Number of Samples: 16 , Calculated Power = 0.6038\n",
      "Number of Samples: 17 , Calculated Power = 0.6297\n",
      "Number of Samples: 18 , Calculated Power = 0.658\n",
      "Number of Samples: 19 , Calculated Power = 0.6783\n",
      "Number of Samples: 20 , Calculated Power = 0.7056\n",
      "Number of Samples: 21 , Calculated Power = 0.7266\n",
      "Number of Samples: 22 , Calculated Power = 0.7481\n",
      "Number of Samples: 23 , Calculated Power = 0.7624\n",
      "Number of Samples: 24 , Calculated Power = 0.7864\n",
      "Number of Samples: 25 , Calculated Power = 0.8031\n"
     ]
    }
   ],
   "source": [
    "np.random.seed(10)\n",
    "\n",
    "p = (np.empty(n_sim))\n",
    "p.fill(np.nan)\n",
    "\n",
    "# Keep iterating until desired power is obtained\n",
    "\n",
    "power_sample = []\n",
    "while null_rejected < target:\n",
    "\n",
    "    data = np.empty([n_sim, sample_size, 2])\n",
    "    data.fill(np.nan)\n",
    "    \n",
    "    # For control group \n",
    "    # Here we specify size=[n_sim, sample_size] which creates an array of n_sim number of arrays,\n",
    "    # each containing sample_size number of elements. \n",
    "    # This is equivalent to manually looping n_sim times like we did above but is much faster.\n",
    "    data[:,:,0] = np.random.normal(loc=control_mean, scale=control_sd, size=[n_sim, sample_size])\n",
    "    \n",
    "    # For experimental group\n",
    "    data[:,:,1] = np.random.normal(loc=experimental_mean, scale=experimental_sd, size=[n_sim, sample_size])            \n",
    "    \n",
    "    result = stats.ttest_ind(data[:, :, 0],data[:, :, 1],axis=1)\n",
    "                                \n",
    "    p_vals = result[1]\n",
    "\n",
    "    # Since you know that all simulations are from a different distribution \\\n",
    "    # all those that rejected the null-hypothesis are valid\n",
    "    null_rejected = np.sum(p_vals < 0.05) / n_sim\n",
    "\n",
    "    print('Number of Samples:', sample_size,', Calculated Power =', null_rejected)\n",
    "    power_sample.append([sample_size, null_rejected])\n",
    "\n",
    "    # increase the number of samples by one for the next iteration of the loop\n",
    "    sample_size += 1"
   ]
  },
  {
   "cell_type": "markdown",
   "metadata": {},
   "source": [
    "You can also plot the calculated power against sample size to visually inspect the effect of increasing sample size. "
   ]
  },
  {
   "cell_type": "code",
   "execution_count": 7,
   "metadata": {
    "ExecuteTime": {
     "end_time": "2020-04-09T20:25:07.644640Z",
     "start_time": "2020-04-09T20:25:07.347355Z"
    }
   },
   "outputs": [
    {
     "data": {
      "image/png": "[encoded data removed]",
      "text/plain": [
       "<Figure size 720x360 with 1 Axes>"
      ]
     },
     "metadata": {
      "needs_background": "light"
     },
     "output_type": "display_data"
    }
   ],
   "source": [
    "# Plot a sample size X Power line graph \n",
    "plt.figure(figsize=(10,5))\n",
    "plt.title('Power vs. Sample Size')\n",
    "plt.xlabel('Sample Size')\n",
    "plt.ylabel('Power')\n",
    "\n",
    "ans = power_sample\n",
    "df = pd.DataFrame(ans, index=None)\n",
    "plt.plot(df[0], df[1])\n",
    "\n",
    "plt.show()"
   ]
  },
  {
   "cell_type": "markdown",
   "metadata": {},
   "source": [
    "This output indicates that in order to get the required power (80%) to detect a difference of 0.17, you would need a considerably higher number of patients. "
   ]
  },
  {
   "cell_type": "markdown",
   "metadata": {},
   "source": [
    "## BONUS: Investigating the relationship between Power, Sample Size, and Effect Size\n",
    "\n",
    "You've seen how to calculate power given alpha, sample size, and effect size. To further investigate this relationship, it is interesting to plot the relationship between power and sample size for various effect sizes. \n",
    "\n",
    "To do this, run multiple simulations for varying parameters. Then store the parameters and plot the resulting dataset. Specifically:\n",
    "\n",
    "1. Use a value of $\\alpha$ = 0.05 for all of your simulations\n",
    "2. Use the following effect sizes: [0.01, 0.05, 0.1, 0.15, 0.2, 0.3, 0.5]\n",
    "3. Use the sample sizes from 10 to 500\n",
    "4. For each effect size sample size combination, calculate the accompanying power\n",
    "5. Plot a line graph of the power vs sample size relationship. You should have 7 plots; one for each of the effect sizes listed above. All 7 plots can be on the same graph but should be labeled appropriately. Plot the power on the y-axis and sample size on the x-axis."
   ]
  },
  {
   "cell_type": "code",
   "execution_count": null,
   "metadata": {},
   "outputs": [],
   "source": []
  },
  {
   "cell_type": "markdown",
   "metadata": {},
   "source": [
    "## Summary\n",
    "\n",
    "In this lesson, you gained further practice with \"statistical power\" and how it can be used to analyze experimental design. You ran a simulation to determine the sample size that would provide a given value of power (for a given alpha and effect size). Running simulations like this, as well as further investigations regarding required sample sizes for higher power thresholds or smaller effect sizes is critical in designing meaningful experiments where one can be confident in the subsequent conclusions drawn."
   ]
  }
 ],
 "metadata": {
  "kernelspec": {
   "display_name": "Python 3",
   "language": "python",
   "name": "python3"
  },
  "language_info": {
   "codemirror_mode": {
    "name": "ipython",
    "version": 3
   },
   "file_extension": ".py",
   "mimetype": "text/x-python",
   "name": "python",
   "nbconvert_exporter": "python",
   "pygments_lexer": "ipython3",
   "version": "3.6.9"
  },
  "toc": {
   "base_numbering": 1,
   "nav_menu": {},
   "number_sections": true,
   "sideBar": true,
   "skip_h1_title": false,
   "title_cell": "Table of Contents",
   "title_sidebar": "Contents",
   "toc_cell": false,
   "toc_position": {},
   "toc_section_display": true,
   "toc_window_display": false
  }
 },
 "nbformat": 4,
 "nbformat_minor": 2
}
